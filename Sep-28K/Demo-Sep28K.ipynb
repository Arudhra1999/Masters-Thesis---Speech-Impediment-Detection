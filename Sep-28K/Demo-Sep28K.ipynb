{
 "cells": [
  {
   "cell_type": "code",
   "execution_count": 1,
   "id": "eac2e6f5",
   "metadata": {},
   "outputs": [],
   "source": [
    "import torch\n",
    "import torch.nn as nn\n",
    "import librosa\n",
    "import numpy as np\n",
    "import joblib\n",
    "from transformers import DistilBertTokenizer, DistilBertModel\n",
    "import whisper"
   ]
  },
  {
   "cell_type": "code",
   "execution_count": 3,
   "id": "b61e22b1",
   "metadata": {},
   "outputs": [],
   "source": [
    "distilbert_model = DistilBertModel.from_pretrained('./distilbert_model')\n",
    "distilbert_tokenizer = DistilBertTokenizer.from_pretrained('./distilbert_tokenizer')\n",
    "mfcc_model = torch.load('./ffnn_model.pth')\n",
    "svm_model = joblib.load('SVM_Classifier.joblib')\n",
    "rf_model = joblib.load('Random_Forest_Classifier.joblib')\n",
    "dt_model = joblib.load('Decision_Tree_Classifier.joblib')\n",
    "nb_model = joblib.load('Naive_Bayes_Classifier.joblib')\n",
    "whisper_model = whisper.load_model(\"base\")"
   ]
  },
  {
   "cell_type": "code",
   "execution_count": 4,
   "id": "464781fa",
   "metadata": {},
   "outputs": [
    {
     "data": {
      "text/plain": [
       "<All keys matched successfully>"
      ]
     },
     "execution_count": 4,
     "metadata": {},
     "output_type": "execute_result"
    }
   ],
   "source": [
    "class MFCC_Network(nn.Module):\n",
    "    def __init__(self, input_dim):\n",
    "        super(MFCC_Network, self).__init__()\n",
    "        self.fc1 = nn.Linear(input_dim, 64)\n",
    "        self.fc2 = nn.Linear(64, 32)\n",
    "        self.fc3 = nn.Linear(32, 1)\n",
    "        self.dropout = nn.Dropout(0.25)\n",
    "        self.relu = nn.ReLU()\n",
    "\n",
    "    def forward(self, x):\n",
    "        x = self.relu(self.fc1(x))\n",
    "        x = self.dropout(x)\n",
    "        x = self.relu(self.fc2(x))\n",
    "        x = self.dropout(x)\n",
    "        x = self.fc3(x)\n",
    "        return x\n",
    "    \n",
    "input_dim=100\n",
    "mfcc_model = MFCC_Network(input_dim)\n",
    "mfcc_model.load_state_dict(torch.load('./ffnn_model.pth'))"
   ]
  },
  {
   "cell_type": "markdown",
   "id": "f5448122",
   "metadata": {},
   "source": [
    "Classification Demo"
   ]
  },
  {
   "cell_type": "code",
   "execution_count": 5,
   "id": "d49b2b6d",
   "metadata": {},
   "outputs": [],
   "source": [
    "audio_path = \"Sample Audio Clips/WomenWhoStutter_6_0.wav\""
   ]
  },
  {
   "cell_type": "code",
   "execution_count": 6,
   "id": "f2c30ac3",
   "metadata": {},
   "outputs": [],
   "source": [
    "y, sr = librosa.load(audio_path, sr=None)\n",
    "mfcc_features = librosa.feature.mfcc(y=y, sr=sr, n_mfcc=100)\n",
    "mfcc_features = np.mean(mfcc_features, axis=1)\n",
    "mfcc_features_tensor = torch.tensor(mfcc_features, dtype=torch.float32).unsqueeze(0)\n",
    "mfcc_model.eval()\n",
    "\n",
    "with torch.no_grad():\n",
    "    mfcc_embeddings = mfcc_model(mfcc_features_tensor).numpy()"
   ]
  },
  {
   "cell_type": "code",
   "execution_count": 7,
   "id": "57eb2467",
   "metadata": {},
   "outputs": [],
   "source": [
    "result = whisper_model.transcribe(audio_path)\n",
    "transcript = result['text']"
   ]
  },
  {
   "cell_type": "code",
   "execution_count": 8,
   "id": "6b6e1914",
   "metadata": {},
   "outputs": [],
   "source": [
    "inputs = distilbert_tokenizer(transcript, padding=True, truncation=True, return_tensors=\"pt\")\n",
    "with torch.no_grad():\n",
    "    text_embeddings = distilbert_model(**inputs).last_hidden_state.mean(dim=1).numpy()"
   ]
  },
  {
   "cell_type": "code",
   "execution_count": 9,
   "id": "78ebfe5f",
   "metadata": {},
   "outputs": [],
   "source": [
    "combined_embeddings = np.concatenate([text_embeddings, mfcc_embeddings], axis=1)"
   ]
  },
  {
   "cell_type": "code",
   "execution_count": 10,
   "id": "71bc7afa",
   "metadata": {},
   "outputs": [],
   "source": [
    "classes = {0:'Non-Stutter', 1:'Stutter'}"
   ]
  },
  {
   "cell_type": "code",
   "execution_count": 15,
   "id": "f686384e",
   "metadata": {},
   "outputs": [
    {
     "name": "stdout",
     "output_type": "stream",
     "text": [
      "Random Forest Prediction: Non-Stutter\n"
     ]
    }
   ],
   "source": [
    "prediction = rf_model.predict(combined_embeddings)\n",
    "print(f\"Random Forest Prediction: {classes[prediction[0]]}\")"
   ]
  },
  {
   "cell_type": "code",
   "execution_count": 16,
   "id": "e9cc29af",
   "metadata": {},
   "outputs": [
    {
     "name": "stdout",
     "output_type": "stream",
     "text": [
      "SVM Prediction: Non-Stutter\n"
     ]
    }
   ],
   "source": [
    "prediction = svm_model.predict(combined_embeddings)\n",
    "print(f\"SVM Prediction: {classes[prediction[0]]}\")"
   ]
  },
  {
   "cell_type": "code",
   "execution_count": 17,
   "id": "b3b60935",
   "metadata": {},
   "outputs": [
    {
     "name": "stdout",
     "output_type": "stream",
     "text": [
      "Decision Tree Prediction: Stutter\n"
     ]
    }
   ],
   "source": [
    "prediction = dt_model.predict(combined_embeddings)\n",
    "print(f\"Decision Tree Prediction: {classes[prediction[0]]}\")"
   ]
  },
  {
   "cell_type": "code",
   "execution_count": 18,
   "id": "adbb713d",
   "metadata": {},
   "outputs": [
    {
     "name": "stdout",
     "output_type": "stream",
     "text": [
      "Gaussian Naive Bayes Prediction: Non-Stutter\n"
     ]
    }
   ],
   "source": [
    "prediction = nb_model.predict(combined_embeddings)\n",
    "print(f\"Gaussian Naive Bayes Prediction: {classes[prediction[0]]}\")"
   ]
  },
  {
   "cell_type": "code",
   "execution_count": null,
   "id": "33a3b6dd",
   "metadata": {},
   "outputs": [],
   "source": []
  }
 ],
 "metadata": {
  "kernelspec": {
   "display_name": "Python 3 (ipykernel)",
   "language": "python",
   "name": "python3"
  },
  "language_info": {
   "codemirror_mode": {
    "name": "ipython",
    "version": 3
   },
   "file_extension": ".py",
   "mimetype": "text/x-python",
   "name": "python",
   "nbconvert_exporter": "python",
   "pygments_lexer": "ipython3",
   "version": "3.11.5"
  }
 },
 "nbformat": 4,
 "nbformat_minor": 5
}

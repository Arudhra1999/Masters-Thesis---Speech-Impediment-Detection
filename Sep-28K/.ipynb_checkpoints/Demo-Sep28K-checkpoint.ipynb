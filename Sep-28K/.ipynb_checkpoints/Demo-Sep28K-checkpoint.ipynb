{
 "cells": [
  {
   "cell_type": "code",
   "execution_count": 1,
   "id": "eac2e6f5",
   "metadata": {},
   "outputs": [],
   "source": [
    "import streamlit as st\n",
    "import torch\n",
    "import torch.nn as nn\n",
    "import librosa\n",
    "import numpy as np\n",
    "import joblib\n",
    "from transformers import DistilBertTokenizer, DistilBertModel\n",
    "import whisper"
   ]
  },
  {
   "cell_type": "code",
   "execution_count": 2,
   "id": "b61e22b1",
   "metadata": {},
   "outputs": [
    {
     "ename": "FileNotFoundError",
     "evalue": "[Errno 2] No such file or directory: './SVM_Classifier.joblib'",
     "output_type": "error",
     "traceback": [
      "\u001b[1;31m---------------------------------------------------------------------------\u001b[0m",
      "\u001b[1;31mFileNotFoundError\u001b[0m                         Traceback (most recent call last)",
      "Cell \u001b[1;32mIn[2], line 4\u001b[0m\n\u001b[0;32m      2\u001b[0m distilbert_tokenizer \u001b[38;5;241m=\u001b[39m DistilBertTokenizer\u001b[38;5;241m.\u001b[39mfrom_pretrained(\u001b[38;5;124m'\u001b[39m\u001b[38;5;124m./distilbert_tokenizer\u001b[39m\u001b[38;5;124m'\u001b[39m)\n\u001b[0;32m      3\u001b[0m mfcc_model \u001b[38;5;241m=\u001b[39m torch\u001b[38;5;241m.\u001b[39mload(\u001b[38;5;124m'\u001b[39m\u001b[38;5;124m./ffnn_model.pth\u001b[39m\u001b[38;5;124m'\u001b[39m)\n\u001b[1;32m----> 4\u001b[0m svm_model \u001b[38;5;241m=\u001b[39m joblib\u001b[38;5;241m.\u001b[39mload(\u001b[38;5;124m'\u001b[39m\u001b[38;5;124m./SVM_Classifier.joblib\u001b[39m\u001b[38;5;124m'\u001b[39m)\n\u001b[0;32m      5\u001b[0m rf_model \u001b[38;5;241m=\u001b[39m joblib\u001b[38;5;241m.\u001b[39mload(\u001b[38;5;124m'\u001b[39m\u001b[38;5;124m./Random_Forest_Classifier.joblib\u001b[39m\u001b[38;5;124m'\u001b[39m)\n\u001b[0;32m      6\u001b[0m dt_model \u001b[38;5;241m=\u001b[39m joblib\u001b[38;5;241m.\u001b[39mload(\u001b[38;5;124m'\u001b[39m\u001b[38;5;124m./Decision_Tree_Classifier.joblib\u001b[39m\u001b[38;5;124m'\u001b[39m)\n",
      "File \u001b[1;32m~\\anaconda3\\Lib\\site-packages\\joblib\\numpy_pickle.py:650\u001b[0m, in \u001b[0;36mload\u001b[1;34m(filename, mmap_mode)\u001b[0m\n\u001b[0;32m    648\u001b[0m         obj \u001b[38;5;241m=\u001b[39m _unpickle(fobj)\n\u001b[0;32m    649\u001b[0m \u001b[38;5;28;01melse\u001b[39;00m:\n\u001b[1;32m--> 650\u001b[0m     \u001b[38;5;28;01mwith\u001b[39;00m \u001b[38;5;28mopen\u001b[39m(filename, \u001b[38;5;124m'\u001b[39m\u001b[38;5;124mrb\u001b[39m\u001b[38;5;124m'\u001b[39m) \u001b[38;5;28;01mas\u001b[39;00m f:\n\u001b[0;32m    651\u001b[0m         \u001b[38;5;28;01mwith\u001b[39;00m _read_fileobject(f, filename, mmap_mode) \u001b[38;5;28;01mas\u001b[39;00m fobj:\n\u001b[0;32m    652\u001b[0m             \u001b[38;5;28;01mif\u001b[39;00m \u001b[38;5;28misinstance\u001b[39m(fobj, \u001b[38;5;28mstr\u001b[39m):\n\u001b[0;32m    653\u001b[0m                 \u001b[38;5;66;03m# if the returned file object is a string, this means we\u001b[39;00m\n\u001b[0;32m    654\u001b[0m                 \u001b[38;5;66;03m# try to load a pickle file generated with an version of\u001b[39;00m\n\u001b[0;32m    655\u001b[0m                 \u001b[38;5;66;03m# Joblib so we load it with joblib compatibility function.\u001b[39;00m\n",
      "\u001b[1;31mFileNotFoundError\u001b[0m: [Errno 2] No such file or directory: './SVM_Classifier.joblib'"
     ]
    }
   ],
   "source": [
    "distilbert_model = DistilBertModel.from_pretrained('./distilbert_model')\n",
    "distilbert_tokenizer = DistilBertTokenizer.from_pretrained('./distilbert_tokenizer')\n",
    "mfcc_model = torch.load('./ffnn_model.pth')\n",
    "svm_model = joblib.load('ML models/SVM_Classifier.joblib')\n",
    "rf_model = joblib.load('ML models/Random_Forest_Classifier.joblib')\n",
    "dt_model = joblib.load('ML models/Decision_Tree_Classifier.joblib')\n",
    "nb_model = joblib.load('Naive_Bayes_Classifier.joblib')\n",
    "whisper_model = whisper.load_model(\"base\")"
   ]
  },
  {
   "cell_type": "code",
   "execution_count": 4,
   "id": "464781fa",
   "metadata": {},
   "outputs": [
    {
     "data": {
      "text/plain": [
       "<All keys matched successfully>"
      ]
     },
     "execution_count": 4,
     "metadata": {},
     "output_type": "execute_result"
    }
   ],
   "source": [
    "class MFCC_Network(nn.Module):\n",
    "    def __init__(self, input_dim):\n",
    "        super(MFCC_Network, self).__init__()\n",
    "        self.fc1 = nn.Linear(input_dim, 64)\n",
    "        self.fc2 = nn.Linear(64, 32)\n",
    "        self.fc3 = nn.Linear(32, 1)\n",
    "        self.dropout = nn.Dropout(0.25)\n",
    "        self.relu = nn.ReLU()\n",
    "\n",
    "    def forward(self, x):\n",
    "        x = self.relu(self.fc1(x))\n",
    "        x = self.dropout(x)\n",
    "        x = self.relu(self.fc2(x))\n",
    "        x = self.dropout(x)\n",
    "        x = self.fc3(x)\n",
    "        return x\n",
    "    \n",
    "input_dim=100\n",
    "mfcc_model = MFCC_Network(input_dim)\n",
    "mfcc_model.load_state_dict(torch.load('./ffnn_model.pth'))"
   ]
  },
  {
   "cell_type": "code",
   "execution_count": 5,
   "id": "d49b2b6d",
   "metadata": {},
   "outputs": [],
   "source": [
    "audio_path = \"D:\\\\Time Series EDA\\\\Clipped_Audio\\\\WomenWhoStutter\\\\2\\\\WomenWhoStutter_2_6.wav\""
   ]
  },
  {
   "cell_type": "code",
   "execution_count": 6,
   "id": "f2c30ac3",
   "metadata": {},
   "outputs": [],
   "source": [
    "y, sr = librosa.load(audio_path, sr=None)\n",
    "mfcc_features = librosa.feature.mfcc(y=y, sr=sr, n_mfcc=100)\n",
    "mfcc_features = np.mean(mfcc_features, axis=1)\n",
    "mfcc_features_tensor = torch.tensor(mfcc_features, dtype=torch.float32).unsqueeze(0)\n",
    "mfcc_model.eval()\n",
    "\n",
    "with torch.no_grad():\n",
    "    mfcc_embeddings = mfcc_model(mfcc_features_tensor).numpy()"
   ]
  },
  {
   "cell_type": "code",
   "execution_count": 7,
   "id": "57eb2467",
   "metadata": {},
   "outputs": [],
   "source": [
    "result = whisper_model.transcribe(audio_path)\n",
    "transcript = result['text']"
   ]
  },
  {
   "cell_type": "code",
   "execution_count": 8,
   "id": "6b6e1914",
   "metadata": {},
   "outputs": [],
   "source": [
    "inputs = distilbert_tokenizer(transcript, padding=True, truncation=True, return_tensors=\"pt\")\n",
    "with torch.no_grad():\n",
    "    text_embeddings = distilbert_model(**inputs).last_hidden_state.mean(dim=1).numpy()"
   ]
  },
  {
   "cell_type": "code",
   "execution_count": 9,
   "id": "78ebfe5f",
   "metadata": {},
   "outputs": [],
   "source": [
    "combined_embeddings = np.concatenate([text_embeddings, mfcc_embeddings], axis=1)"
   ]
  },
  {
   "cell_type": "code",
   "execution_count": 10,
   "id": "71bc7afa",
   "metadata": {},
   "outputs": [],
   "source": [
    "classes = {0:'Non-Stutter', 1:'Stutter'}"
   ]
  },
  {
   "cell_type": "code",
   "execution_count": 11,
   "id": "f686384e",
   "metadata": {},
   "outputs": [
    {
     "name": "stdout",
     "output_type": "stream",
     "text": [
      "Prediction: Non-Stutter\n"
     ]
    }
   ],
   "source": [
    "prediction = rf_model.predict(combined_embeddings)\n",
    "print(f\"Prediction: {classes[prediction[0]]}\")"
   ]
  },
  {
   "cell_type": "code",
   "execution_count": 12,
   "id": "e9cc29af",
   "metadata": {},
   "outputs": [
    {
     "name": "stdout",
     "output_type": "stream",
     "text": [
      "Prediction: Stutter\n"
     ]
    }
   ],
   "source": [
    "prediction = svm_model.predict(combined_embeddings)\n",
    "print(f\"Prediction: {classes[prediction[0]]}\")"
   ]
  },
  {
   "cell_type": "code",
   "execution_count": 13,
   "id": "b3b60935",
   "metadata": {},
   "outputs": [
    {
     "name": "stdout",
     "output_type": "stream",
     "text": [
      "Prediction: Non-Stutter\n"
     ]
    }
   ],
   "source": [
    "prediction = dt_model.predict(combined_embeddings)\n",
    "print(f\"Prediction: {classes[prediction[0]]}\")"
   ]
  },
  {
   "cell_type": "code",
   "execution_count": null,
   "id": "adbb713d",
   "metadata": {},
   "outputs": [],
   "source": []
  },
  {
   "cell_type": "code",
   "execution_count": null,
   "id": "916669b0",
   "metadata": {},
   "outputs": [],
   "source": []
  }
 ],
 "metadata": {
  "kernelspec": {
   "display_name": "Python 3 (ipykernel)",
   "language": "python",
   "name": "python3"
  },
  "language_info": {
   "codemirror_mode": {
    "name": "ipython",
    "version": 3
   },
   "file_extension": ".py",
   "mimetype": "text/x-python",
   "name": "python",
   "nbconvert_exporter": "python",
   "pygments_lexer": "ipython3",
   "version": "3.11.5"
  }
 },
 "nbformat": 4,
 "nbformat_minor": 5
}
